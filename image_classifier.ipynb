{
  "cells": [
    {
      "cell_type": "markdown",
      "metadata": {
        "colab_type": "text",
        "id": "view-in-github"
      },
      "source": [
        "<a href=\"https://colab.research.google.com/github/lrhf97/OpenCV/blob/main/image_classifier.ipynb\" target=\"_parent\"><img src=\"https://colab.research.google.com/assets/colab-badge.svg\" alt=\"Open In Colab\"/></a>"
      ]
    },
    {
      "cell_type": "code",
      "execution_count": 1,
      "metadata": {
        "colab": {
          "background_save": true,
          "base_uri": "https://localhost:8080/"
        },
        "id": "eEMvZpZRHGU6",
        "outputId": "63849a3a-34db-4e97-f1ee-64b97a47d1c9"
      },
      "outputs": [
        {
          "name": "stderr",
          "output_type": "stream",
          "text": [
            "2021-10-21 11:33:31.394094: W tensorflow/stream_executor/platform/default/dso_loader.cc:64] Could not load dynamic library 'libcudart.so.11.0'; dlerror: libcudart.so.11.0: cannot open shared object file: No such file or directory\n",
            "2021-10-21 11:33:31.394120: I tensorflow/stream_executor/cuda/cudart_stub.cc:29] Ignore above cudart dlerror if you do not have a GPU set up on your machine.\n"
          ]
        },
        {
          "name": "stdout",
          "output_type": "stream",
          "text": [
            "50000\n"
          ]
        }
      ],
      "source": [
        "import tensorflow as tf\n",
        "from keras.models import Sequential\n",
        "from keras.layers import Dense, MaxPool2D, Dropout, Conv2D, Flatten\n",
        "from keras.constraints import maxnorm\n",
        "from keras.datasets import cifar10\n",
        "\n",
        "# import matplotlib.pyplot as plt\n",
        "import numpy as np\n",
        "\n",
        "\n",
        "def reshape_image(input_image_arrays):\n",
        "    output_array = []\n",
        "    for image_array in input_image_arrays:\n",
        "        output_array.append(image_array.reshape(-1))\n",
        "    return np.asarray(output_array)\n",
        "\n",
        "\n",
        "labels_array = ['airplane', 'automobile', 'bird', 'cat', 'deer', 'dog', 'frog', 'horse', 'ship', 'truck']\n",
        "\n",
        "(x_train, y_train), (x_test, y_test) = cifar10.load_data()\n",
        "\n",
        "print(len(x_train))\n",
        "\n",
        "# first_image = x_train[0]\n",
        "# print image\n",
        "# print(first_image[0])\n",
        "# plt.imshow(first_image)\n",
        "# plt.show()\n",
        "# max_label_index = np.argmax(train_labels[0])\n",
        "# print(labels_array[max_label_index])\n",
        "\n",
        "x_train = x_train.astype('float32') / 255.0\n",
        "x_test = x_test.astype('float32') / 255.0\n",
        "\n",
        "y_train = tf.keras.utils.to_categorical(y_train)\n",
        "y_test = tf.keras.utils.to_categorical(y_test)\n",
        "\n",
        "# print(x_test[0][0])\n"
      ]
    },
    {
      "cell_type": "code",
      "execution_count": 3,
      "metadata": {
        "colab": {
          "base_uri": "https://localhost:8080/"
        },
        "id": "2nbhUxDNK3kr",
        "outputId": "f7a0d3f4-e2a6-4f26-fefc-2c437c2a8445"
      },
      "outputs": [
        {
          "name": "stderr",
          "output_type": "stream",
          "text": [
            "2021-10-21 11:45:09.836931: W tensorflow/core/framework/cpu_allocator_impl.cc:80] Allocation of 614400000 exceeds 10% of free system memory.\n"
          ]
        },
        {
          "name": "stdout",
          "output_type": "stream",
          "text": [
            "Epoch 1/10\n",
            "1563/1563 [==============================] - 107s 68ms/step - loss: 1.9145 - accuracy: 0.3150\n",
            "Epoch 2/10\n",
            "1563/1563 [==============================] - 108s 69ms/step - loss: 1.6164 - accuracy: 0.4250\n",
            "Epoch 3/10\n",
            "1563/1563 [==============================] - 107s 68ms/step - loss: 1.4633 - accuracy: 0.4775\n",
            "Epoch 4/10\n",
            "1563/1563 [==============================] - 108s 69ms/step - loss: 1.3665 - accuracy: 0.5140\n",
            "Epoch 5/10\n",
            "1563/1563 [==============================] - 110s 70ms/step - loss: 1.2955 - accuracy: 0.5426\n",
            "Epoch 6/10\n",
            "1563/1563 [==============================] - 122s 78ms/step - loss: 1.2403 - accuracy: 0.5590\n",
            "Epoch 7/10\n",
            "1563/1563 [==============================] - 114s 73ms/step - loss: 1.1915 - accuracy: 0.5786\n",
            "Epoch 8/10\n",
            "1563/1563 [==============================] - 115s 74ms/step - loss: 1.1519 - accuracy: 0.5921\n",
            "Epoch 9/10\n",
            "1563/1563 [==============================] - 116s 74ms/step - loss: 1.1166 - accuracy: 0.6048\n",
            "Epoch 10/10\n",
            "1563/1563 [==============================] - 113s 72ms/step - loss: 1.0798 - accuracy: 0.6184\n"
          ]
        }
      ],
      "source": [
        "\n",
        "model = Sequential()\n",
        "\n",
        "# filters; output 32 features (the image is 32hx32wx3colors\n",
        "# kernel_size : 3x3 kernel or filter matrix used to calculate output features\n",
        "# input_shape: each input is 32x32x3\n",
        "# activation: relu is the best for this\n",
        "# padding: 'same' adds padding to the input image to make sure that the output feature map is the same size as the input\n",
        "# kernel_restraint: maxnorm normalizes the values in the kernel to make that the max value is 3\n",
        "model.add(Conv2D(filters=32, kernel_size=(3, 3), input_shape=(32, 32, 3), activation='relu', padding='same', kernel_constraint=maxnorm(3)))\n",
        "\n",
        "# Add the max pool layer to decrease the image size form 2x32 to 16x16\n",
        "# pool_size: finds the max value oin each 2x2 section of the input\n",
        "model.add(MaxPool2D(pool_size=(2, 2)))\n",
        "model.add(Flatten())\n",
        "\n",
        "# First dense layer to create the actual prediction network\n",
        "# units: 512 neurons at this layer, increase for greater accuracy, decrease for faster train speed\n",
        "# kernel_constraint: see above\n",
        "model.add(Dense(512, activation='relu', kernel_constraint=maxnorm(3)))\n",
        "\n",
        "# Dropout layer to ignore some neurons during training which improves model reliability\n",
        "# rate: 0.5 means half the neurons dropped\n",
        "model.add(Dropout(rate=0.5))\n",
        "\n",
        "# Final dense layer used to produce output for each of the 10 categories\n",
        "# units: 10 categories so 10 output units\n",
        "# activation: softmax because we are calculating probabilities for each of the 10 categories (not as clear as 0 or 1)\n",
        "model.add(Dense(10, activation='softmax'))\n",
        "\n",
        "opt = tf.keras.optimizers.SGD(learning_rate=0.01)\n",
        "model.compile(optimizer=opt, loss='categorical_crossentropy', metrics=['accuracy'])\n",
        "model.fit(x=x_train, y=y_train, epochs=10, batch_size=32)\n",
        "\n",
        "model.save(filepath='Image_classifer.h5')\n"
      ]
    },
    {
      "cell_type": "code",
      "execution_count": 7,
      "metadata": {
        "id": "38GoYhI9KyRe"
      },
      "outputs": [
        {
          "name": "stdout",
          "output_type": "stream",
          "text": [
            "  1/313 [..............................] - ETA: 41s - loss: 0.7881 - accuracy: 0.6562"
          ]
        },
        {
          "name": "stderr",
          "output_type": "stream",
          "text": [
            "2021-10-21 12:06:19.775422: W tensorflow/core/framework/cpu_allocator_impl.cc:80] Allocation of 122880000 exceeds 10% of free system memory.\n"
          ]
        },
        {
          "name": "stdout",
          "output_type": "stream",
          "text": [
            "313/313 [==============================] - 4s 13ms/step - loss: 1.0996 - accuracy: 0.6054\n",
            "Test loss 1.0996099710464478\n",
            "Test accuracy 0.605400025844574\n",
            "Prediction cat\n"
          ]
        }
      ],
      "source": [
        "from keras.models import load_model\n",
        "\n",
        "model = load_model(filepath ='/home/lrhf97/Desktop/forked_projects/OpenCV/Image_classifer.h5')\n",
        "results = model.evaluate(x=x_test,y=y_test)\n",
        "print(\"Test loss\", results[0])\n",
        "print(\"Test accuracy\", results[1])\n",
        "\n",
        "test_image = x_test[0]\n",
        "test_image_data = np.asarray([test_image])\n",
        "prediction = model.predict(x =test_image_data)\n",
        "max_index = np.argmax(prediction[0])\n",
        "\n",
        "print('Prediction' ,labels_array[max_index])\n",
        "\n",
        "\n"
      ]
    },
    {
      "cell_type": "code",
      "execution_count": 8,
      "metadata": {},
      "outputs": [
        {
          "data": {
            "image/png": "[encoded data removed]",
            "text/plain": [
              "<Figure size 432x288 with 1 Axes>"
            ]
          },
          "metadata": {
            "needs_background": "light"
          },
          "output_type": "display_data"
        }
      ],
      "source": [
        "import matplotlib.pyplot as plt\n",
        "\n",
        "plt.imshow(test_image)\n",
        "plt.show()"
      ]
    }
  ],
  "metadata": {
    "accelerator": "GPU",
    "colab": {
      "authorship_tag": "ABX9TyNa7LO66tJkwzsJzutiCamV",
      "include_colab_link": true,
      "name": "Copy of image_classifier.ipynb",
      "provenance": [],
      "toc_visible": true
    },
    "interpreter": {
      "hash": "cffc8fdca4cb3298b7b4e61d40c4948d6ec6d10043cb4b51db57e8efa8b4e244"
    },
    "kernelspec": {
      "display_name": "Python 3.9.7 64-bit ('opencv_env': conda)",
      "name": "python3"
    },
    "language_info": {
      "codemirror_mode": {
        "name": "ipython",
        "version": 3
      },
      "file_extension": ".py",
      "mimetype": "text/x-python",
      "name": "python",
      "nbconvert_exporter": "python",
      "pygments_lexer": "ipython3",
      "version": "3.9.7"
    }
  },
  "nbformat": 4,
  "nbformat_minor": 0
}
