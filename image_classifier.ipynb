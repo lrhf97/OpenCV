{
  "nbformat": 4,
  "nbformat_minor": 0,
  "metadata": {
    "accelerator": "GPU",
    "colab": {
      "name": "Copy of image_classifier.ipynb",
      "provenance": [],
      "toc_visible": true,
      "authorship_tag": "ABX9TyNa7LO66tJkwzsJzutiCamV",
      "include_colab_link": true
    },
    "kernelspec": {
      "display_name": "Python 3",
      "name": "python3"
    },
    "language_info": {
      "name": "python"
    }
  },
  "cells": [
    {
      "cell_type": "markdown",
      "metadata": {
        "id": "view-in-github",
        "colab_type": "text"
      },
      "source": [
        "<a href=\"https://colab.research.google.com/github/lrhf97/OpenCV/blob/main/image_classifier.ipynb\" target=\"_parent\"><img src=\"https://colab.research.google.com/assets/colab-badge.svg\" alt=\"Open In Colab\"/></a>"
      ]
    },
    {
      "cell_type": "code",
      "metadata": {
        "colab": {
          "background_save": true,
          "base_uri": "https://localhost:8080/"
        },
        "id": "eEMvZpZRHGU6",
        "outputId": "63849a3a-34db-4e97-f1ee-64b97a47d1c9"
      },
      "source": [
        "import tensorflow as tf\n",
        "from keras.models import Sequential\n",
        "from keras.layers import Dense, MaxPool2D, Dropout, Conv2D, Flatten\n",
        "from keras.constraints import maxnorm\n",
        "from keras.datasets import cifar10\n",
        "\n",
        "# import matplotlib.pyplot as plt\n",
        "import numpy as np\n",
        "\n",
        "\n",
        "def reshape_image(input_image_arrays):\n",
        "    output_array = []\n",
        "    for image_array in input_image_arrays:\n",
        "        output_array.append(image_array.reshape(-1))\n",
        "    return np.asarray(output_array)\n",
        "\n",
        "\n",
        "labels_array = ['airplane', 'automobile', 'bird', 'cat', 'deer', 'dog', 'frog', 'horse', 'ship', 'truck']\n",
        "\n",
        "(x_train, y_train), (x_test, y_test) = cifar10.load_data()\n",
        "\n",
        "print(len(x_train))\n",
        "\n",
        "# first_image = x_train[0]\n",
        "# print image\n",
        "# print(first_image[0])\n",
        "# plt.imshow(first_image)\n",
        "# plt.show()\n",
        "# max_label_index = np.argmax(train_labels[0])\n",
        "# print(labels_array[max_label_index])\n",
        "\n",
        "x_train = x_train.astype('float32') / 255.0\n",
        "x_test = x_test.astype('float32') / 255.0\n",
        "\n",
        "y_train = tf.keras.utils.to_categorical(y_train)\n",
        "y_test = tf.keras.utils.to_categorical(y_test)\n",
        "\n",
        "# print(x_test[0][0])\n"
      ],
      "execution_count": null,
      "outputs": [
        {
          "name": "stdout",
          "output_type": "stream",
          "text": [
            "Epoch 1/10\n",
            "1563/1563 [==============================] - 107s 68ms/step - loss: 1.9324 - accuracy: 0.3085\n",
            "Epoch 2/10\n",
            "1563/1563 [==============================] - 103s 66ms/step - loss: 1.6603 - accuracy: 0.4129\n",
            "Epoch 3/10\n",
            "1563/1563 [==============================] - 103s 66ms/step - loss: 1.5029 - accuracy: 0.4664\n",
            "Epoch 4/10\n",
            "1563/1563 [==============================] - 103s 66ms/step - loss: 1.3932 - accuracy: 0.5054\n",
            "Epoch 5/10\n",
            "1563/1563 [==============================] - 103s 66ms/step - loss: 1.3113 - accuracy: 0.5336\n",
            "Epoch 6/10\n",
            "1563/1563 [==============================] - 99s 63ms/step - loss: 1.2502 - accuracy: 0.5551\n",
            "Epoch 7/10\n",
            "1563/1563 [==============================] - 99s 63ms/step - loss: 1.1995 - accuracy: 0.5756\n",
            "Epoch 8/10\n",
            "1563/1563 [==============================] - 99s 63ms/step - loss: 1.1582 - accuracy: 0.5929\n",
            "Epoch 9/10\n",
            "1563/1563 [==============================] - 99s 63ms/step - loss: 1.1166 - accuracy: 0.6049\n",
            "Epoch 10/10\n",
            "1563/1563 [==============================] - 99s 63ms/step - loss: 1.0812 - accuracy: 0.6180\n"
          ]
        },
        {
          "data": {
            "text/plain": [
              "<keras.callbacks.History at 0x7fc60ecbbc90>"
            ]
          },
          "execution_count": null,
          "metadata": {},
          "output_type": "execute_result"
        }
      ]
    },
    {
      "cell_type": "code",
      "metadata": {
        "colab": {
          "base_uri": "https://localhost:8080/"
        },
        "id": "2nbhUxDNK3kr",
        "outputId": "f7a0d3f4-e2a6-4f26-fefc-2c437c2a8445"
      },
      "source": [
        "\n",
        "model = Sequential()\n",
        "\n",
        "# filters; output 32 features (the image is 32hx32wx3colors\n",
        "# kernel_size : 3x3 kernel or filter matrix used to calculate output features\n",
        "# input_shape: each input is 32x32x3\n",
        "# activation: relu is the best for this\n",
        "# padding: 'same' adds padding to the input image to make sure that the output feature map is the same size as the input\n",
        "# kernel_restraint: maxnorm normalizes the values in the kernel to make that the max value is 3\n",
        "model.add(Conv2D(filters=32, kernel_size=(3, 3), input_shape=(32, 32, 3), activation='relu', padding='same', kernel_constraint=maxnorm(3)))\n",
        "\n",
        "# Add the max pool layer to decrease the image size form 2x32 to 16x16\n",
        "# pool_size: finds the max value oin each 2x2 section of the input\n",
        "model.add(MaxPool2D(pool_size=(2, 2)))\n",
        "model.add(Flatten())\n",
        "\n",
        "# First dense layer to create the actual prediction network\n",
        "# units: 512 neurons at this layer, increase for greater accuracy, decrease for faster train speed\n",
        "# kernel_constraint: see above\n",
        "model.add(Dense(512, activation='relu', kernel_constraint=maxnorm(3)))\n",
        "\n",
        "# Dropout layer to ignore some neurons during training which improves model reliability\n",
        "# rate: 0.5 means half the neurons dropped\n",
        "model.add(Dropout(rate=0.5))\n",
        "\n",
        "# Final dense layer used to produce output for each of the 10 categories\n",
        "# units: 10 categories so 10 output units\n",
        "# activation: softmax because we are calculating probabilities for each of the 10 categories (not as clear as 0 or 1)\n",
        "model.add(Dense(10, activation='softmax'))\n",
        "\n",
        "opt = tf.keras.optimizers.SGD(learning_rate=0.01)\n",
        "model.compile(optimizer=opt, loss='categorical_crossentropy', metrics=['accuracy'])\n",
        "model.fit(x=x_train, y=y_train, epochs=10, batch_size=32)\n"
      ],
      "execution_count": null,
      "outputs": [
        {
          "name": "stdout",
          "output_type": "stream",
          "text": [
            "Epoch 1/10\n",
            "1563/1563 [==============================] - 12s 7ms/step - loss: 1.9135 - accuracy: 0.3146\n",
            "Epoch 2/10\n",
            "1563/1563 [==============================] - 11s 7ms/step - loss: 1.6238 - accuracy: 0.4246\n",
            "Epoch 3/10\n",
            "1563/1563 [==============================] - 11s 7ms/step - loss: 1.4782 - accuracy: 0.4735\n",
            "Epoch 4/10\n",
            "1563/1563 [==============================] - 11s 7ms/step - loss: 1.3786 - accuracy: 0.5080\n",
            "Epoch 5/10\n",
            "1563/1563 [==============================] - 11s 7ms/step - loss: 1.2972 - accuracy: 0.5400\n",
            "Epoch 6/10\n",
            "1563/1563 [==============================] - 11s 7ms/step - loss: 1.2404 - accuracy: 0.5594\n",
            "Epoch 7/10\n",
            "1563/1563 [==============================] - 11s 7ms/step - loss: 1.1931 - accuracy: 0.5775\n",
            "Epoch 8/10\n",
            "1563/1563 [==============================] - 11s 7ms/step - loss: 1.1456 - accuracy: 0.5959\n",
            "Epoch 9/10\n",
            "1563/1563 [==============================] - 11s 7ms/step - loss: 1.1065 - accuracy: 0.6100\n",
            "Epoch 10/10\n",
            "1563/1563 [==============================] - 11s 7ms/step - loss: 1.0634 - accuracy: 0.6263\n"
          ]
        },
        {
          "data": {
            "text/plain": [
              "<keras.callbacks.History at 0x7f5095d9f990>"
            ]
          },
          "execution_count": 3,
          "metadata": {},
          "output_type": "execute_result"
        }
      ]
    },
    {
      "cell_type": "code",
      "metadata": {
        "id": "38GoYhI9KyRe"
      },
      "source": [
        ""
      ],
      "execution_count": null,
      "outputs": []
    }
  ]
}